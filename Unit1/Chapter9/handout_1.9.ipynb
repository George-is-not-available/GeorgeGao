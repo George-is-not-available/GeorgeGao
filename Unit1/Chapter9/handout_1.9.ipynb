{
 "cells": [
  {
   "cell_type": "markdown",
   "source": [
    "# str | 字符串"
   ],
   "metadata": {
    "collapsed": false
   },
   "id": "83ce7625fa5543ab"
  },
  {
   "cell_type": "markdown",
   "source": [
    "1. Print all string methods that do not start with `__`\n",
    "\n",
    "    打印所有不以下划线开头的字符串的方法"
   ],
   "metadata": {
    "collapsed": false
   },
   "id": "f66cb7ebaa0b3df5"
  },
  {
   "cell_type": "code",
   "execution_count": null,
   "id": "initial_id",
   "metadata": {
    "collapsed": true
   },
   "outputs": [],
   "source": []
  },
  {
   "cell_type": "markdown",
   "source": [
    "2. Choose 10 string method that is not mentioned in the video, explain the usage of each method with code\n",
    "\n",
    "    选择 10 个视频中没有提到的字符串方法，以代码的形式说明它的用法"
   ],
   "metadata": {
    "collapsed": false
   },
   "id": "f356aedbd2324dd2"
  },
  {
   "cell_type": "code",
   "execution_count": null,
   "outputs": [],
   "source": [],
   "metadata": {
    "collapsed": false
   },
   "id": "bdb9e983a101a68e"
  },
  {
   "cell_type": "markdown",
   "source": [
    "3. `isdecimal`, `isdigit`, `isnumeric` are both used for check if string can convert to number, ask ChatGPT to explain the difference between these methods\n",
    "\n",
    "    `isdecimal`, `isdigit`, `isnumeric` 这三个方法都可以判断字符串是否是数字，让 ChatGPT 解释它们之间的区别"
   ],
   "metadata": {
    "collapsed": false
   },
   "id": "d1a9b6f386b77110"
  },
  {
   "cell_type": "code",
   "execution_count": null,
   "outputs": [],
   "source": [
    "'''\n",
    "\n",
    "'''"
   ],
   "metadata": {
    "collapsed": false
   },
   "id": "6a03ebe00a109ac1"
  }
 ],
 "metadata": {
  "kernelspec": {
   "display_name": "Python 3",
   "language": "python",
   "name": "python3"
  },
  "language_info": {
   "codemirror_mode": {
    "name": "ipython",
    "version": 2
   },
   "file_extension": ".py",
   "mimetype": "text/x-python",
   "name": "python",
   "nbconvert_exporter": "python",
   "pygments_lexer": "ipython2",
   "version": "2.7.6"
  }
 },
 "nbformat": 4,
 "nbformat_minor": 5
}

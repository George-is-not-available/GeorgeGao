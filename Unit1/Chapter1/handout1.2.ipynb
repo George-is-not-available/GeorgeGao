{
 "cells": [
  {
   "cell_type": "markdown",
   "source": [
    "# Arithmetic Operators | 算数运算符"
   ],
   "metadata": {
    "collapsed": false
   },
   "id": "60487554910dd7c2"
  },
  {
   "cell_type": "markdown",
   "source": [
    "1. Calculation between integer and integer | 整型计算\n",
    "   \n",
    "    2 // 2 = ?\n",
    "   \n",
    "    2 / 2 = ?"
   ],
   "metadata": {
    "collapsed": false
   },
   "id": "3706b3d855b0f731"
  },
  {
   "cell_type": "code",
   "execution_count": 5,
   "id": "initial_id",
   "metadata": {
    "collapsed": true,
    "ExecuteTime": {
     "end_time": "2023-09-15T05:52:09.677810Z",
     "start_time": "2023-09-15T05:52:09.555350Z"
    }
   },
   "outputs": [],
   "source": []
  },
  {
   "cell_type": "markdown",
   "source": [
    "2. Calculation between float and float | 浮点型计算\n",
    "   \n",
    "    0.1 + 0.1 = ?\n",
    "   \n",
    "    0.1 + 0.2 = ?\n",
    "   \n",
    "    0.1 * 0.2 = ?\n",
    "   \n",
    "    0.1 / 0.2 = ?"
   ],
   "metadata": {
    "collapsed": false
   },
   "id": "7316bc563a9f37b0"
  },
  {
   "cell_type": "code",
   "execution_count": 5,
   "outputs": [],
   "source": [],
   "metadata": {
    "collapsed": false,
    "ExecuteTime": {
     "end_time": "2023-09-15T05:52:09.680483Z",
     "start_time": "2023-09-15T05:52:09.558123Z"
    }
   },
   "id": "69a3d16c5d994ab8"
  },
  {
   "cell_type": "markdown",
   "source": [
    "3. Calculation between integer and float | 整型和浮点型计算\n",
    "   \n",
    "    1 + 0.1 = ?\n",
    "   \n",
    "    1 + 0.1 + 0.2 = ?\n",
    "   \n",
    "    1 + 0.1 + 0.2 + 0.01 = ?\n",
    "   \n",
    "    1 + 0.1 + 0.2 + 1 = ?\n",
    "   \n",
    "    1 + 0.1 + 1 + 0.2 = ?"
   ],
   "metadata": {
    "collapsed": false
   },
   "id": "2b4b59f0c96324a1"
  },
  {
   "cell_type": "code",
   "execution_count": 5,
   "outputs": [],
   "source": [],
   "metadata": {
    "collapsed": false,
    "ExecuteTime": {
     "end_time": "2023-09-15T05:52:09.693926Z",
     "start_time": "2023-09-15T05:52:09.566420Z"
    }
   },
   "id": "e63fd52bf8c5027e"
  },
  {
   "cell_type": "markdown",
   "source": [
    "4. Modulus | 模运算\n",
    "\n",
    "    1 % 2 = ?\n",
    "   \n",
    "    2 % 1 = ?\n",
    "   \n",
    "    1.5 % 3 = ?\n",
    "   \n",
    "    3.0 % 5 = ?"
   ],
   "metadata": {
    "collapsed": false
   },
   "id": "a77d99a4e342d8e0"
  },
  {
   "cell_type": "code",
   "execution_count": 5,
   "outputs": [],
   "source": [],
   "metadata": {
    "collapsed": false,
    "ExecuteTime": {
     "end_time": "2023-09-15T05:52:09.694566Z",
     "start_time": "2023-09-15T05:52:09.569719Z"
    }
   },
   "id": "d0169fb81d3118af"
  },
  {
   "cell_type": "markdown",
   "source": [
    "5. Exponentiation | 幂运算\n",
    "\n",
    "    2 ** 3 = ?\n",
    "    \n",
    "    2.0 ** 3 = ?\n",
    "    \n",
    "    0.2 ** 3 = ?\n",
    "    \n",
    "    2 ** 0.5 = ?\n",
    "    \n",
    "    2 ** -1 = ?\n",
    "    \n",
    "    2 ** 2 ** 2 = ?"
   ],
   "metadata": {
    "collapsed": false
   },
   "id": "fc067606f896ea1c"
  },
  {
   "cell_type": "code",
   "execution_count": 5,
   "outputs": [],
   "source": [],
   "metadata": {
    "collapsed": false,
    "ExecuteTime": {
     "end_time": "2023-09-15T05:52:09.711806Z",
     "start_time": "2023-09-15T05:52:09.575846Z"
    }
   },
   "id": "dd25ba275b9255b7"
  },
  {
   "cell_type": "markdown",
   "source": [
    "6. Integer division | 取整运算\n",
    "\n",
    "    5 // 2 = ?\n",
    "    \n",
    "    2 // 5 = ?\n",
    "    \n",
    "    2 // 0.5 = ?\n",
    "    \n",
    "    2 // 0.3 = ?"
   ],
   "metadata": {
    "collapsed": false
   },
   "id": "e809aead5c6c26ce"
  },
  {
   "cell_type": "code",
   "execution_count": 5,
   "outputs": [],
   "source": [],
   "metadata": {
    "collapsed": false,
    "ExecuteTime": {
     "end_time": "2023-09-15T05:52:09.712540Z",
     "start_time": "2023-09-15T05:52:09.581270Z"
    }
   },
   "id": "cd4012d25dafae0a"
  },
  {
   "cell_type": "markdown",
   "source": [
    "# KEY POINT | 重点\n",
    "\n",
    "In Python, calculations between different types follow a rule called ()\n",
    "\n",
    "Python 中，不同类型之间进行计算，遵循（）规则"
   ],
   "metadata": {
    "collapsed": false
   },
   "id": "f343d54ebf2aaa90"
  },
  {
   "cell_type": "markdown",
   "source": [
    "7. Calculation between string and string | 字符串间计算\n",
    "\n",
    "    \"123\" + \"456\" = ?\n",
    "    \n",
    "    \"123\" - \"456\" = ?\n",
    "    \n",
    "    \"123\" * \"456\" = ?\n",
    "    \n",
    "    \"123\" / \"456\" = ?"
   ],
   "metadata": {
    "collapsed": false
   },
   "id": "562bf60935155edd"
  },
  {
   "cell_type": "code",
   "execution_count": 5,
   "outputs": [],
   "source": [],
   "metadata": {
    "collapsed": false,
    "ExecuteTime": {
     "end_time": "2023-09-15T05:52:09.713102Z",
     "start_time": "2023-09-15T05:52:09.591555Z"
    }
   },
   "id": "8123a585412c99bf"
  },
  {
   "cell_type": "markdown",
   "source": [
    "8. Calculation between string and integer | 字符串和整型计算\n",
    "\n",
    "    \"123\" + 3 = ?\n",
    "    \n",
    "    \"123\" - 3 = ?\n",
    "    \n",
    "    \"123\" * 3 = ?\n",
    "    \n",
    "    \"123\" / 3 = ?"
   ],
   "metadata": {
    "collapsed": false
   },
   "id": "6ece7f72c914c55"
  },
  {
   "cell_type": "markdown",
   "source": [
    "# Assignment Operators | 赋值运算符"
   ],
   "metadata": {
    "collapsed": false
   },
   "id": "a2d7249d59a3f759"
  },
  {
   "cell_type": "markdown",
   "source": [
    "9. Syntactic sugar | 语法糖\n",
    "\n",
    "    a = 1\n",
    "    \n",
    "    b = 1\n",
    "    \n",
    "    c = 2.0\n",
    "    \n",
    "    d = '3'\n",
    "    \n",
    "    e = True"
   ],
   "metadata": {
    "collapsed": false
   },
   "id": "903f6020f3ae76e1"
  },
  {
   "cell_type": "code",
   "execution_count": 5,
   "outputs": [],
   "source": [],
   "metadata": {
    "collapsed": false,
    "ExecuteTime": {
     "end_time": "2023-09-15T05:52:09.713628Z",
     "start_time": "2023-09-15T05:52:09.605181Z"
    }
   },
   "id": "ee76557699e15876"
  },
  {
   "cell_type": "markdown",
   "source": [
    "9. Equivalent operation | 等效运算\n",
    "\n",
    "    a //= b ➡️ ?"
   ],
   "metadata": {
    "collapsed": false
   },
   "id": "47bf3d5b6e74e8ae"
  },
  {
   "cell_type": "code",
   "execution_count": 6,
   "outputs": [
    {
     "name": "stdout",
     "output_type": "stream",
     "text": [
      "0 2\n"
     ]
    }
   ],
   "source": [
    "a = 1\n",
    "b = 2\n",
    "a //= b  # rewrite this line\n",
    "print(a, b)"
   ],
   "metadata": {
    "collapsed": false,
    "ExecuteTime": {
     "end_time": "2023-09-15T05:52:09.715013Z",
     "start_time": "2023-09-15T05:52:09.655415Z"
    }
   },
   "id": "5cc2b7b53115542d"
  },
  {
   "cell_type": "markdown",
   "source": [
    "# Bitwise Operators | 位移运算符"
   ],
   "metadata": {
    "collapsed": false
   },
   "id": "9f2a6b6487ff41ae"
  },
  {
   "cell_type": "code",
   "execution_count": 7,
   "outputs": [
    {
     "name": "stdout",
     "output_type": "stream",
     "text": [
      "4\n"
     ]
    }
   ],
   "source": [
    "print(1 << 2)"
   ],
   "metadata": {
    "collapsed": false,
    "ExecuteTime": {
     "end_time": "2023-09-15T05:52:09.715140Z",
     "start_time": "2023-09-15T05:52:09.658777Z"
    }
   },
   "id": "6f66b224ee9f3bda"
  },
  {
   "cell_type": "markdown",
   "source": [
    "# Membership Operators | 成员运算符"
   ],
   "metadata": {
    "collapsed": false
   },
   "id": "3993137dfa5c7f23"
  },
  {
   "cell_type": "code",
   "execution_count": 8,
   "outputs": [
    {
     "name": "stdout",
     "output_type": "stream",
     "text": [
      "True\n"
     ]
    }
   ],
   "source": [
    "a = 1\n",
    "b = 1\n",
    "print(a is b)"
   ],
   "metadata": {
    "collapsed": false,
    "ExecuteTime": {
     "end_time": "2023-09-15T05:52:09.715827Z",
     "start_time": "2023-09-15T05:52:09.663213Z"
    }
   },
   "id": "b157637aeab1b5ab"
  }
 ],
 "metadata": {
  "kernelspec": {
   "display_name": "Python 3",
   "language": "python",
   "name": "python3"
  },
  "language_info": {
   "codemirror_mode": {
    "name": "ipython",
    "version": 2
   },
   "file_extension": ".py",
   "mimetype": "text/x-python",
   "name": "python",
   "nbconvert_exporter": "python",
   "pygments_lexer": "ipython2",
   "version": "2.7.6"
  }
 },
 "nbformat": 4,
 "nbformat_minor": 5
}

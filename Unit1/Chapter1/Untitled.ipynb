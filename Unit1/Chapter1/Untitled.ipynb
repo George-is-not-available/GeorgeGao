{
 "cells": [
  {
   "cell_type": "code",
   "execution_count": 4,
   "id": "3cf193bc-2e9e-4313-8f04-105df404d49f",
   "metadata": {},
   "outputs": [
    {
     "name": "stdout",
     "output_type": "stream",
     "text": [
      "Hello World!\n"
     ]
    }
   ],
   "source": [
    "\"\"\"\n",
    "1.1.1  Hello World!\n",
    "save \"Hello World!\" as a variable, and print to console\n",
    "\"\"\"\n",
    "\n",
    "message = \"Hello World!\"\n",
    "print(message)"
   ]
  },
  {
   "cell_type": "code",
   "execution_count": null,
   "id": "271bf1a5-0169-4e8e-bd7d-a44767b12a61",
   "metadata": {},
   "outputs": [],
   "source": []
  },
  {
   "cell_type": "code",
   "execution_count": null,
   "id": "00397fa1-327a-4e4b-adbb-35c92087e148",
   "metadata": {},
   "outputs": [],
   "source": []
  },
  {
   "cell_type": "code",
   "execution_count": null,
   "id": "b58fb61c-a6e9-4f5e-bb2d-f81f69a92df0",
   "metadata": {},
   "outputs": [],
   "source": []
  },
  {
   "cell_type": "code",
   "execution_count": null,
   "id": "19b00f0a-0246-4c67-a800-71359f8ece0e",
   "metadata": {},
   "outputs": [],
   "source": []
  },
  {
   "cell_type": "code",
   "execution_count": null,
   "id": "a7c61770-d2d9-43d5-9a5c-89e67e0f4010",
   "metadata": {},
   "outputs": [],
   "source": []
  },
  {
   "cell_type": "code",
   "execution_count": null,
   "id": "ddba7c5b-37e9-4136-b119-39bddb0352ac",
   "metadata": {},
   "outputs": [],
   "source": []
  },
  {
   "cell_type": "code",
   "execution_count": null,
   "id": "1063980d-aa61-40f7-92ab-fa65951a395d",
   "metadata": {},
   "outputs": [],
   "source": []
  },
  {
   "cell_type": "code",
   "execution_count": null,
   "id": "a3342b47-af5d-4908-911d-a6b655884c3a",
   "metadata": {},
   "outputs": [],
   "source": []
  },
  {
   "cell_type": "code",
   "execution_count": null,
   "id": "9b336a57-e5b1-4557-8981-b8a362e7b0e7",
   "metadata": {},
   "outputs": [],
   "source": []
  }
 ],
 "metadata": {
  "kernelspec": {
   "display_name": "Python 3 (ipykernel)",
   "language": "python",
   "name": "python3"
  },
  "language_info": {
   "codemirror_mode": {
    "name": "ipython",
    "version": 3
   },
   "file_extension": ".py",
   "mimetype": "text/x-python",
   "name": "python",
   "nbconvert_exporter": "python",
   "pygments_lexer": "ipython3",
   "version": "3.11.5"
  }
 },
 "nbformat": 4,
 "nbformat_minor": 5
}

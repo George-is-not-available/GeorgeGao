{
 "cells": [
  {
   "cell_type": "markdown",
   "source": [
    "# set | 集合"
   ],
   "metadata": {
    "collapsed": false
   },
   "id": "db782d71159a5492"
  },
  {
   "cell_type": "markdown",
   "source": [
    "1. Print all functions of set\n",
    "\n",
    "    打印所有集合的方法"
   ],
   "metadata": {
    "collapsed": false
   },
   "id": "29c5aa72fe279ff3"
  },
  {
   "cell_type": "code",
   "execution_count": null,
   "outputs": [],
   "source": [],
   "metadata": {
    "collapsed": false
   },
   "id": "2fac2bd9d151857a"
  },
  {
   "cell_type": "markdown",
   "source": [
    "2. Use 3 same numbers to create a set\n",
    "\n",
    "    在定义中使用 3 个同样的数字创建一个集合"
   ],
   "metadata": {
    "collapsed": false
   },
   "id": "675f30b3e9ea1777"
  },
  {
   "cell_type": "code",
   "execution_count": null,
   "id": "initial_id",
   "metadata": {
    "collapsed": true
   },
   "outputs": [],
   "source": []
  },
  {
   "cell_type": "markdown",
   "source": [
    "3. Find the intersection of two sets\n",
    "\n",
    "    求两个集合的交集"
   ],
   "metadata": {
    "collapsed": false
   },
   "id": "527efe26df49a52f"
  },
  {
   "cell_type": "code",
   "execution_count": null,
   "outputs": [],
   "source": [
    "set_a = {1, 2, 3}\n",
    "set_b = {2, 3, 4}\n"
   ],
   "metadata": {
    "collapsed": false
   },
   "id": "39ccfd36fe81b6fe"
  },
  {
   "cell_type": "markdown",
   "source": [
    "4. Find the union of two sets.\n",
    "\n",
    "    求两个集合的并集"
   ],
   "metadata": {
    "collapsed": false
   },
   "id": "c7f593cd7622204d"
  },
  {
   "cell_type": "code",
   "execution_count": null,
   "outputs": [],
   "source": [
    "set_a = {1, 2, 3}\n",
    "set_b = {2, 3, 4}\n"
   ],
   "metadata": {
    "collapsed": false
   },
   "id": "4a86a0dee80b25e0"
  },
  {
   "cell_type": "markdown",
   "source": [
    "5. 求两个集合的补集"
   ],
   "metadata": {
    "collapsed": false
   },
   "id": "6008b735185be22f"
  },
  {
   "cell_type": "code",
   "execution_count": null,
   "outputs": [],
   "source": [
    "set_a = {1, 2, 3}\n",
    "set_b = {2, 3, 4}\n"
   ],
   "metadata": {
    "collapsed": false
   },
   "id": "ba51231aa78f729a"
  },
  {
   "cell_type": "markdown",
   "source": [
    "# dict | 字典"
   ],
   "metadata": {
    "collapsed": false
   },
   "id": "555baf1c34b7723c"
  },
  {
   "cell_type": "markdown",
   "source": [
    "6. Print all functions of dict\n",
    "\n",
    "    打印所有字典的方法"
   ],
   "metadata": {
    "collapsed": false
   },
   "id": "4beb08a8ab17e326"
  },
  {
   "cell_type": "code",
   "execution_count": null,
   "outputs": [],
   "source": [],
   "metadata": {
    "collapsed": false
   },
   "id": "b5f3da1eb05a7a40"
  },
  {
   "cell_type": "markdown",
   "source": [
    "7. 3 ways to traverse dict\n",
    "\n",
    "    3 种遍历字典的方法"
   ],
   "metadata": {
    "collapsed": false
   },
   "id": "3d5976d4e18ac726"
  },
  {
   "cell_type": "code",
   "execution_count": null,
   "outputs": [],
   "source": [
    "dict_5 = {1, 2, 3, 4}\n"
   ],
   "metadata": {
    "collapsed": false
   },
   "id": "420fc3168fe5ef9a"
  }
 ],
 "metadata": {
  "kernelspec": {
   "display_name": "Python 3",
   "language": "python",
   "name": "python3"
  },
  "language_info": {
   "codemirror_mode": {
    "name": "ipython",
    "version": 2
   },
   "file_extension": ".py",
   "mimetype": "text/x-python",
   "name": "python",
   "nbconvert_exporter": "python",
   "pygments_lexer": "ipython2",
   "version": "2.7.6"
  }
 },
 "nbformat": 4,
 "nbformat_minor": 5
}

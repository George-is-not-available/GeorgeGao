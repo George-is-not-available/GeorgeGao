{
 "cells": [
  {
   "cell_type": "markdown",
   "source": [
    "1. input()"
   ],
   "metadata": {
    "collapsed": false
   },
   "id": "8299611a9fb0b24d"
  },
  {
   "cell_type": "code",
   "execution_count": null,
   "id": "initial_id",
   "metadata": {
    "collapsed": true
   },
   "outputs": [],
   "source": [
    "input()"
   ]
  },
  {
   "cell_type": "code",
   "execution_count": 1,
   "outputs": [
    {
     "name": "stdout",
     "output_type": "stream",
     "text": [
      "abc\n"
     ]
    }
   ],
   "source": [
    "user_input = input()  # input \"abc\"\n",
    "print(user_input)"
   ],
   "metadata": {
    "collapsed": false,
    "ExecuteTime": {
     "end_time": "2023-09-19T03:18:47.929693Z",
     "start_time": "2023-09-19T03:18:42.468224Z"
    }
   },
   "id": "f6d1b59b6b1f4399"
  },
  {
   "cell_type": "code",
   "execution_count": null,
   "outputs": [],
   "source": [
    "num1 = input()  # input 1\n",
    "num2 = input()  # input 2\n",
    "sum = num1 + num2\n",
    "print(sum)"
   ],
   "metadata": {
    "collapsed": false
   },
   "id": "dd75516fac740003"
  },
  {
   "cell_type": "code",
   "execution_count": null,
   "outputs": [],
   "source": [
    "a, b = input()\n",
    "print(a, b)"
   ],
   "metadata": {
    "collapsed": false
   },
   "id": "e25fe59b828c1778"
  },
  {
   "cell_type": "markdown",
   "source": [
    "2. print(*objects, sep=' ', end='\\n', file=sys.stdout, flush=False)"
   ],
   "metadata": {
    "collapsed": false
   },
   "id": "c5f57dedcebb2446"
  },
  {
   "cell_type": "code",
   "execution_count": null,
   "outputs": [],
   "source": [
    "num1, num2, num3 = 1, 2, 3\n",
    "print(num1, num2, num3, sep=\"|\", end = ' ')\n",
    "print(num1, num2, num3, sep=\"|\", end = '!')"
   ],
   "metadata": {
    "collapsed": false
   },
   "id": "294adc2c7c286977"
  },
  {
   "cell_type": "markdown",
   "source": [
    "3. format string (classic)"
   ],
   "metadata": {
    "collapsed": false
   },
   "id": "bcc42803551f6a99"
  },
  {
   "cell_type": "code",
   "execution_count": null,
   "outputs": [],
   "source": [
    "print(\"My name is %s\" % \"Kros\")\n",
    "print(\"My IQ is %d\" % 9)\n",
    "print(\"My EQ is %f\" % 99.9)"
   ],
   "metadata": {
    "collapsed": false
   },
   "id": "59afc866cff3df33"
  },
  {
   "cell_type": "code",
   "execution_count": null,
   "outputs": [],
   "source": [
    "print(\"My IQ is %1.2f\" % 9)\n",
    "print(\"My EQ is %.2f\" % 99.9)"
   ],
   "metadata": {
    "collapsed": false
   },
   "id": "502c0fc8f6f4dc2c"
  },
  {
   "cell_type": "code",
   "execution_count": null,
   "outputs": [],
   "source": [
    "print('%.2f' % 0.123456789)\n",
    "print('%5.2f' % 0.123456789)\n",
    "print('%+5.2f' % 0.123456789)\n",
    "print('%-5.2f' % 0.123456789)\n",
    "print('%05.2f' % 0.123456789)"
   ],
   "metadata": {
    "collapsed": false
   },
   "id": "b739025ccd99b556"
  },
  {
   "cell_type": "markdown",
   "source": [
    "4. format string (new in 2.6)"
   ],
   "metadata": {
    "collapsed": false
   },
   "id": "e4629f3d5d9750ad"
  },
  {
   "cell_type": "code",
   "execution_count": 3,
   "outputs": [
    {
     "name": "stdout",
     "output_type": "stream",
     "text": [
      "1.0, a\n"
     ]
    }
   ],
   "source": [
    "a, b = 1, \"a\"\n",
    "print(\"{:.1f}, {}\".format(a, b))"
   ],
   "metadata": {
    "collapsed": false,
    "ExecuteTime": {
     "end_time": "2023-09-19T03:40:05.077919Z",
     "start_time": "2023-09-19T03:40:05.051838Z"
    }
   },
   "id": "b0c2292cacbdd925"
  },
  {
   "cell_type": "code",
   "execution_count": 4,
   "outputs": [
    {
     "name": "stdout",
     "output_type": "stream",
     "text": [
      "1, a\n"
     ]
    }
   ],
   "source": [
    "a, b = 1, \"a\"\n"
   ],
   "metadata": {
    "collapsed": false,
    "ExecuteTime": {
     "end_time": "2023-09-19T03:42:04.950652Z",
     "start_time": "2023-09-19T03:42:04.929956Z"
    }
   },
   "id": "20edbf18299a0c72"
  },
  {
   "cell_type": "markdown",
   "source": [
    "5. format string (new in 3.6)"
   ],
   "metadata": {
    "collapsed": false
   },
   "id": "75f8a32a34366e4c"
  },
  {
   "cell_type": "code",
   "execution_count": null,
   "outputs": [],
   "source": [
    "a, b = 1, \"a\"\n"
   ],
   "metadata": {
    "collapsed": false
   },
   "id": "1ebf47add35a4a9"
  },
  {
   "cell_type": "code",
   "execution_count": 6,
   "outputs": [
    {
     "name": "stdout",
     "output_type": "stream",
     "text": [
      "1.0, a\n"
     ]
    }
   ],
   "source": [
    "a, b = 1, \"a\"\n",
    "print(f\"{a:.1f}, {b}\")"
   ],
   "metadata": {
    "collapsed": false,
    "ExecuteTime": {
     "end_time": "2023-09-19T03:43:07.326787Z",
     "start_time": "2023-09-19T03:43:07.315343Z"
    }
   },
   "id": "128bd9bf22232b3d"
  },
  {
   "cell_type": "code",
   "execution_count": 7,
   "outputs": [
    {
     "name": "stdout",
     "output_type": "stream",
     "text": [
      "{}\n"
     ]
    }
   ],
   "source": [
    "a = \"{}\"\n",
    "print(f\"{a}\")"
   ],
   "metadata": {
    "collapsed": false,
    "ExecuteTime": {
     "end_time": "2023-09-19T03:46:22.932083Z",
     "start_time": "2023-09-19T03:46:22.905062Z"
    }
   },
   "id": "a2390e03972fef66"
  },
  {
   "cell_type": "code",
   "execution_count": null,
   "outputs": [],
   "source": [],
   "metadata": {
    "collapsed": false
   },
   "id": "5ee2027212e2e8a5"
  }
 ],
 "metadata": {
  "kernelspec": {
   "display_name": "Python 3",
   "language": "python",
   "name": "python3"
  },
  "language_info": {
   "codemirror_mode": {
    "name": "ipython",
    "version": 2
   },
   "file_extension": ".py",
   "mimetype": "text/x-python",
   "name": "python",
   "nbconvert_exporter": "python",
   "pygments_lexer": "ipython2",
   "version": "2.7.6"
  }
 },
 "nbformat": 4,
 "nbformat_minor": 5
}

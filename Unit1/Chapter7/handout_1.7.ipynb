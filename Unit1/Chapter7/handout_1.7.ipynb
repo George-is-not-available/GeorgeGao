{
 "cells": [
  {
   "cell_type": "markdown",
   "source": [
    "# list | 列表"
   ],
   "metadata": {
    "collapsed": false
   },
   "id": "e6022f21a27d4512"
  },
  {
   "cell_type": "markdown",
   "source": [
    "1. Write down all functions of list\n",
    "\n",
    "    写出列表所有的方法"
   ],
   "metadata": {
    "collapsed": false
   },
   "id": "3375645f7476fdfb"
  },
  {
   "cell_type": "code",
   "execution_count": null,
   "outputs": [],
   "source": [],
   "metadata": {
    "collapsed": false
   },
   "id": "59acd940e5dbf09b"
  },
  {
   "cell_type": "markdown",
   "source": [
    "2. find of official documentation for the list data type.\n",
    "\n",
    "    找到官方文档对列表的说明"
   ],
   "metadata": {
    "collapsed": false
   },
   "id": "951b5e3760f5f981"
  },
  {
   "cell_type": "code",
   "execution_count": null,
   "outputs": [],
   "source": [
    "# "
   ],
   "metadata": {
    "collapsed": false
   },
   "id": "6e1bfbf8e37c21d"
  },
  {
   "cell_type": "markdown",
   "source": [
    "3. Define and print a list\n",
    "\n",
    "    定义并打印一个列表"
   ],
   "metadata": {
    "collapsed": false
   },
   "id": "4d725011fbf2aa93"
  },
  {
   "cell_type": "code",
   "execution_count": null,
   "outputs": [],
   "source": [],
   "metadata": {
    "collapsed": false
   },
   "id": "a5a48a30bfb0be48"
  },
  {
   "cell_type": "markdown",
   "source": [
    "4. Traverse list in 2 ways using for loop\n",
    "\n",
    "    用两种 for 循环的方式遍历列表"
   ],
   "metadata": {
    "collapsed": false
   },
   "id": "a6eb5f2c39c61daf"
  },
  {
   "cell_type": "code",
   "execution_count": null,
   "id": "initial_id",
   "metadata": {
    "collapsed": true
   },
   "outputs": [],
   "source": [
    "# 1.\n"
   ]
  },
  {
   "cell_type": "code",
   "execution_count": null,
   "outputs": [],
   "source": [
    "# 2.\n"
   ],
   "metadata": {
    "collapsed": false,
    "is_executing": true
   },
   "id": "5b4c19ce7f68acb3"
  },
  {
   "cell_type": "markdown",
   "source": [
    "5. Define a list that contains elements of different types.\n",
    "\n",
    "    定义一个包含不同类型元素的列表"
   ],
   "metadata": {
    "collapsed": false
   },
   "id": "7b4a42eed7812899"
  },
  {
   "cell_type": "code",
   "execution_count": null,
   "outputs": [],
   "source": [],
   "metadata": {
    "collapsed": false
   },
   "id": "c7ebc924e854d806"
  },
  {
   "cell_type": "markdown",
   "source": [
    "6. How many items does the char_lists have?\n",
    "\n",
    "    char_list 中有几个元素？"
   ],
   "metadata": {
    "collapsed": false
   },
   "id": "8436fa63ae95e5dc"
  },
  {
   "cell_type": "code",
   "execution_count": null,
   "outputs": [],
   "source": [
    "char_lists = [['a', 'b', 'c'], ['d', 'e', 'f']]\n"
   ],
   "metadata": {
    "collapsed": false
   },
   "id": "9f7e74a21688b55f"
  },
  {
   "cell_type": "markdown",
   "source": [
    "7. Add elements of list_2 to list_1 in 2 ways\n",
    "\n",
    "    用 2 种方法将 list_2 的元素添加到 list_1"
   ],
   "metadata": {
    "collapsed": false
   },
   "id": "deec8e191a15380d"
  },
  {
   "cell_type": "code",
   "execution_count": null,
   "outputs": [],
   "source": [
    "list_1 = [1, 2, 3, 4]\n",
    "list_2 = [5, 6, 7, 8]\n"
   ],
   "metadata": {
    "collapsed": false
   },
   "id": "be8fcb00b407ff37"
  },
  {
   "cell_type": "markdown",
   "source": [
    "8. What is the difference between del and pop()?\n",
    "\n",
    "    del 和 pop() 的区别是什么？"
   ],
   "metadata": {
    "collapsed": false
   },
   "id": "91b5dccc35ac0c6d"
  },
  {
   "cell_type": "code",
   "execution_count": null,
   "outputs": [],
   "source": [
    "nums = [1, 2, 3, 4]\n",
    "del nums[0]\n",
    "nums.pop(0)\n"
   ],
   "metadata": {
    "collapsed": false
   },
   "id": "8ea48a4321b8617f"
  },
  {
   "cell_type": "markdown",
   "source": [
    "9. What is the difference between remove() and clear()?\n",
    "\n",
    "    remove() 和 clear() 的区别是什么？"
   ],
   "metadata": {
    "collapsed": false
   },
   "id": "661bd7868bd3e52c"
  },
  {
   "cell_type": "code",
   "execution_count": null,
   "outputs": [],
   "source": [
    "nums = [1, 2, 3, 4]\n"
   ],
   "metadata": {
    "collapsed": false
   },
   "id": "9c4600b69a2bbed1"
  },
  {
   "cell_type": "markdown",
   "source": [
    "10. What is the difference between list.sort(reverse=True) and list.reverse()?\n",
    "\n",
    "    list.sort(reverse=True) 和 list.reverse() 的区别是什么？"
   ],
   "metadata": {
    "collapsed": false
   },
   "id": "2b8733d4bff917cd"
  },
  {
   "cell_type": "code",
   "execution_count": null,
   "outputs": [],
   "source": [
    "nums = [1, 3, 2, 4]\n"
   ],
   "metadata": {
    "collapsed": false
   },
   "id": "5bc726c7b7a37b53"
  },
  {
   "cell_type": "markdown",
   "source": [
    "# tuple | 元组"
   ],
   "metadata": {
    "collapsed": false
   },
   "id": "558ccf18f675d460"
  },
  {
   "cell_type": "markdown",
   "source": [
    "11. Define and print a tuple\n",
    "\n",
    "    定义并打印一个元组"
   ],
   "metadata": {
    "collapsed": false
   },
   "id": "e700d152c18c61e5"
  },
  {
   "cell_type": "code",
   "execution_count": null,
   "outputs": [],
   "source": [],
   "metadata": {
    "collapsed": false
   },
   "id": "bfa3de95e5e02dd5"
  },
  {
   "cell_type": "markdown",
   "source": [
    "12. Define a tuple with only one element\n",
    "\n",
    "    定义一个只有一个元素的元组"
   ],
   "metadata": {
    "collapsed": false
   },
   "id": "4bebdaafbc2b08e9"
  },
  {
   "cell_type": "code",
   "execution_count": null,
   "outputs": [],
   "source": [
    "tuple_1 = ()\n",
    "print(type(tuple_1))\n",
    "\n",
    "tuple_2 = ('abc')\n",
    "print(type(tuple_2))\n",
    "\n",
    "tuple_3 = (123)\n",
    "print(type(tuple_3))\n",
    "\n"
   ],
   "metadata": {
    "collapsed": false
   },
   "id": "7f63f2c89b694e45"
  },
  {
   "cell_type": "markdown",
   "source": [
    "13. Write down all functions of tuple\n",
    "\n",
    "    写出所有元组的方法"
   ],
   "metadata": {
    "collapsed": false
   },
   "id": "27aae179e4bcef66"
  },
  {
   "cell_type": "code",
   "execution_count": null,
   "outputs": [],
   "source": [],
   "metadata": {
    "collapsed": false
   },
   "id": "76037b6e88dbe653"
  },
  {
   "cell_type": "markdown",
   "source": [
    "14. How to modify a tuple?\n",
    "\n",
    "    如何修改元组？"
   ],
   "metadata": {
    "collapsed": false
   },
   "id": "74e6e4be6c856bd8"
  },
  {
   "cell_type": "code",
   "execution_count": null,
   "outputs": [],
   "source": [
    "tuple_1 = (1, 2, 3)\n"
   ],
   "metadata": {
    "collapsed": false
   },
   "id": "ff4d5739ae5e78e8"
  },
  {
   "cell_type": "markdown",
   "source": [],
   "metadata": {
    "collapsed": false
   },
   "id": "187bb55193f884a7"
  }
 ],
 "metadata": {
  "kernelspec": {
   "display_name": "Python 3",
   "language": "python",
   "name": "python3"
  },
  "language_info": {
   "codemirror_mode": {
    "name": "ipython",
    "version": 2
   },
   "file_extension": ".py",
   "mimetype": "text/x-python",
   "name": "python",
   "nbconvert_exporter": "python",
   "pygments_lexer": "ipython2",
   "version": "2.7.6"
  }
 },
 "nbformat": 4,
 "nbformat_minor": 5
}

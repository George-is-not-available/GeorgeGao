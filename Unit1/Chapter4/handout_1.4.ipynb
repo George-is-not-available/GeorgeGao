{
 "cells": [
  {
   "cell_type": "markdown",
   "id": "2088ae44b059e8b7",
   "metadata": {
    "collapsed": false,
    "jupyter": {
     "outputs_hidden": false
    }
   },
   "source": [
    "# Boolean | 布尔值"
   ]
  },
  {
   "cell_type": "markdown",
   "id": "812318bd9923147f",
   "metadata": {
    "collapsed": false,
    "jupyter": {
     "outputs_hidden": false
    }
   },
   "source": [
    "1.  What is the boolean value of -1?\n",
    "\n",
    "    -1 的布尔值是多少？"
   ]
  },
  {
   "cell_type": "code",
   "execution_count": null,
   "id": "dbaeb127a073c91d",
   "metadata": {
    "collapsed": false,
    "jupyter": {
     "outputs_hidden": false
    }
   },
   "outputs": [],
   "source": []
  },
  {
   "cell_type": "markdown",
   "id": "61452a1329c2fe1",
   "metadata": {
    "collapsed": false,
    "jupyter": {
     "outputs_hidden": false
    }
   },
   "source": [
    "2. What is the boolean value of \"a\"?\n",
    "\n",
    "    \"a\" 的布尔值是多少？"
   ]
  },
  {
   "cell_type": "code",
   "execution_count": null,
   "id": "ad2937b8d3594483",
   "metadata": {
    "collapsed": false,
    "is_executing": true,
    "jupyter": {
     "outputs_hidden": false
    }
   },
   "outputs": [],
   "source": []
  },
  {
   "cell_type": "raw",
   "id": "6297e76c40bd0338",
   "metadata": {
    "collapsed": false,
    "jupyter": {
     "outputs_hidden": false
    }
   },
   "source": [
    "# Comparison Operator | 比较运算符"
   ]
  },
  {
   "cell_type": "raw",
   "id": "14038ad5631e2afa",
   "metadata": {
    "collapsed": false,
    "jupyter": {
     "outputs_hidden": false
    }
   },
   "source": [
    "3. Can str and numbers be compared?"
   ]
  },
  {
   "cell_type": "code",
   "execution_count": 7,
   "id": "39f1179887a8c721",
   "metadata": {
    "collapsed": false,
    "jupyter": {
     "outputs_hidden": false
    }
   },
   "outputs": [
    {
     "name": "stdout",
     "output_type": "stream",
     "text": [
      "True\n"
     ]
    }
   ],
   "source": [
    "print(\"12\"<\"2\")"
   ]
  },
  {
   "cell_type": "markdown",
   "id": "c5c00bfb1c74658",
   "metadata": {
    "collapsed": false,
    "jupyter": {
     "outputs_hidden": false
    }
   },
   "source": [
    "4. What is the difference between \"=\" and \"==\""
   ]
  },
  {
   "cell_type": "code",
   "execution_count": 5,
   "id": "2d68eeb47d730905",
   "metadata": {
    "collapsed": false,
    "is_executing": true,
    "jupyter": {
     "outputs_hidden": false
    }
   },
   "outputs": [
    {
     "name": "stdout",
     "output_type": "stream",
     "text": [
      "1\n"
     ]
    }
   ],
   "source": [
    "a = 1\n",
    "if a == 1:\n",
    "    print(1)"
   ]
  },
  {
   "cell_type": "markdown",
   "id": "967f9befdf4d11c0",
   "metadata": {
    "collapsed": false,
    "jupyter": {
     "outputs_hidden": false
    }
   },
   "source": [
    "5. Is 0.1 + 0.2 == 0.3?"
   ]
  },
  {
   "cell_type": "code",
   "execution_count": null,
   "id": "f5b97a1563bc1aed",
   "metadata": {
    "collapsed": false,
    "is_executing": true,
    "jupyter": {
     "outputs_hidden": false
    }
   },
   "outputs": [],
   "source": []
  },
  {
   "cell_type": "markdown",
   "id": "4312e6c4e4075001",
   "metadata": {
    "collapsed": false,
    "jupyter": {
     "outputs_hidden": false
    }
   },
   "source": [
    "# Conditional Statement"
   ]
  },
  {
   "cell_type": "markdown",
   "id": "c46d12f442a98f36",
   "metadata": {
    "collapsed": false,
    "jupyter": {
     "outputs_hidden": false
    }
   },
   "source": [
    "6. What is a code block in Python?\n",
    "\n",
    "   在 Python 中，什么是代码块？"
   ]
  },
  {
   "cell_type": "code",
   "execution_count": 2,
   "id": "eb4d65357476f3b8",
   "metadata": {
    "collapsed": false,
    "jupyter": {
     "outputs_hidden": false
    }
   },
   "outputs": [
    {
     "ename": "IndentationError",
     "evalue": "unexpected indent (4082968449.py, line 4)",
     "output_type": "error",
     "traceback": [
      "\u001b[1;36m  Cell \u001b[1;32mIn[2], line 4\u001b[1;36m\u001b[0m\n\u001b[1;33m    print(2)\u001b[0m\n\u001b[1;37m    ^\u001b[0m\n\u001b[1;31mIndentationError\u001b[0m\u001b[1;31m:\u001b[0m unexpected indent\n"
     ]
    }
   ],
   "source": [
    "a = 1\n",
    "if a == 1:\n",
    "    print(1)\n",
    "        print(2)"
   ]
  },
  {
   "cell_type": "markdown",
   "id": "fb94cb0b5b74d018",
   "metadata": {
    "collapsed": false,
    "jupyter": {
     "outputs_hidden": false
    }
   },
   "source": [
    "# Identity Operator | 身份运算符"
   ]
  },
  {
   "cell_type": "markdown",
   "id": "94b943480a4a8f38",
   "metadata": {
    "collapsed": false,
    "jupyter": {
     "outputs_hidden": false
    }
   },
   "source": [
    "7. Deos 1 \"is\" 1.0 in Python?"
   ]
  },
  {
   "cell_type": "code",
   "execution_count": null,
   "id": "510a57e1f8c9e158",
   "metadata": {
    "collapsed": false,
    "is_executing": true,
    "jupyter": {
     "outputs_hidden": false
    }
   },
   "outputs": [],
   "source": []
  },
  {
   "cell_type": "markdown",
   "id": "224de44a478ff815",
   "metadata": {
    "collapsed": false,
    "jupyter": {
     "outputs_hidden": false
    }
   },
   "source": [
    "# Pseudocode"
   ]
  },
  {
   "cell_type": "markdown",
   "id": "6b80d48a64265f07",
   "metadata": {
    "collapsed": false,
    "jupyter": {
     "outputs_hidden": false
    }
   },
   "source": [
    "8. Write pseudocode of the text below"
   ]
  },
  {
   "cell_type": "code",
   "execution_count": 3,
   "id": "63d24083ea219550",
   "metadata": {
    "collapsed": false,
    "jupyter": {
     "outputs_hidden": false
    }
   },
   "outputs": [
    {
     "data": {
      "text/plain": [
       "'\\n某程序员出门上班，他老婆对他说：\\n“晚上回来买一个西瓜，如果看到西红柿，就买两个。”\\n于是程序员回来的时候，买了两个西瓜\\n'"
      ]
     },
     "execution_count": 3,
     "metadata": {},
     "output_type": "execute_result"
    }
   ],
   "source": [
    "\"\"\"\n",
    "某程序员出门上班，他老婆对他说：\n",
    "“晚上回来买一个西瓜，如果看到西红柿，就买两个。”\n",
    "于是程序员回来的时候，买了两个西瓜\n",
    "\"\"\"\n",
    "\n"
   ]
  },
  {
   "cell_type": "code",
   "execution_count": 8,
   "id": "027bed0e-a8a2-493f-84c6-d6758970c80c",
   "metadata": {},
   "outputs": [
    {
     "ename": "SyntaxError",
     "evalue": "invalid character '：' (U+FF1A) (1323569908.py, line 1)",
     "output_type": "error",
     "traceback": [
      "\u001b[1;36m  Cell \u001b[1;32mIn[8], line 1\u001b[1;36m\u001b[0m\n\u001b[1;33m    if 看到西红柿：\u001b[0m\n\u001b[1;37m            ^\u001b[0m\n\u001b[1;31mSyntaxError\u001b[0m\u001b[1;31m:\u001b[0m invalid character '：' (U+FF1A)\n"
     ]
    }
   ],
   "source": [
    "if 看到西红柿:\n",
    "    print(\"买两个西瓜\")\n",
    "else:\n",
    "    买一个西瓜"
   ]
  },
  {
   "cell_type": "code",
   "execution_count": null,
   "id": "f10329dc-bba6-436a-b12a-7d697cc46866",
   "metadata": {},
   "outputs": [],
   "source": []
  },
  {
   "cell_type": "code",
   "execution_count": null,
   "id": "31751a54-9585-4e00-a514-ad9bc2ff0d6e",
   "metadata": {},
   "outputs": [],
   "source": []
  },
  {
   "cell_type": "code",
   "execution_count": null,
   "id": "16670926-fa28-49fa-8776-ca564a753ff9",
   "metadata": {},
   "outputs": [],
   "source": []
  },
  {
   "cell_type": "code",
   "execution_count": null,
   "id": "9eeaa336-b552-476f-8af3-4fde975f5760",
   "metadata": {},
   "outputs": [],
   "source": []
  },
  {
   "cell_type": "code",
   "execution_count": null,
   "id": "72abf1e3-95bd-4fdd-b264-42e9e7aace58",
   "metadata": {},
   "outputs": [],
   "source": []
  },
  {
   "cell_type": "code",
   "execution_count": null,
   "id": "4e34bb6f-6a54-4fca-809f-c3c4fe35c2a1",
   "metadata": {},
   "outputs": [],
   "source": []
  },
  {
   "cell_type": "code",
   "execution_count": null,
   "id": "6682dc41-6055-4d5e-b831-ba280f9b3406",
   "metadata": {},
   "outputs": [],
   "source": []
  }
 ],
 "metadata": {
  "kernelspec": {
   "display_name": "Python 3 (ipykernel)",
   "language": "python",
   "name": "python3"
  },
  "language_info": {
   "codemirror_mode": {
    "name": "ipython",
    "version": 3
   },
   "file_extension": ".py",
   "mimetype": "text/x-python",
   "name": "python",
   "nbconvert_exporter": "python",
   "pygments_lexer": "ipython3",
   "version": "3.11.5"
  }
 },
 "nbformat": 4,
 "nbformat_minor": 5
}

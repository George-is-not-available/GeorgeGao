{
 "cells": [
  {
   "cell_type": "markdown",
   "source": [
    "# Polymorphism | 多态"
   ],
   "metadata": {
    "collapsed": false
   },
   "id": "3d42146d65d85f8a"
  },
  {
   "cell_type": "markdown",
   "source": [
    "1. What is polymorphism?<br />\n",
    "    什么是多态？"
   ],
   "metadata": {
    "collapsed": false
   },
   "id": "67930e73d9e07c9c"
  },
  {
   "cell_type": "code",
   "execution_count": null,
   "id": "initial_id",
   "metadata": {
    "collapsed": true
   },
   "outputs": [],
   "source": []
  },
  {
   "cell_type": "markdown",
   "source": [
    "# Duck Typing | 鸭子类型"
   ],
   "metadata": {
    "collapsed": false
   },
   "id": "103407dec5fbdf01"
  },
  {
   "cell_type": "markdown",
   "source": [
    "2. What is duck typing?<br />\n",
    "    什么是鸭子类型？"
   ],
   "metadata": {
    "collapsed": false
   },
   "id": "ac62cac408d28822"
  },
  {
   "cell_type": "code",
   "execution_count": null,
   "outputs": [],
   "source": [],
   "metadata": {
    "collapsed": false
   },
   "id": "437bc77713d0cec2"
  }
 ],
 "metadata": {
  "kernelspec": {
   "display_name": "Python 3",
   "language": "python",
   "name": "python3"
  },
  "language_info": {
   "codemirror_mode": {
    "name": "ipython",
    "version": 2
   },
   "file_extension": ".py",
   "mimetype": "text/x-python",
   "name": "python",
   "nbconvert_exporter": "python",
   "pygments_lexer": "ipython2",
   "version": "2.7.6"
  }
 },
 "nbformat": 4,
 "nbformat_minor": 5
}

{
 "cells": [
  {
   "cell_type": "markdown",
   "source": [
    "# OOP Object-Oriented Programming | 面向对象"
   ],
   "metadata": {
    "collapsed": false
   },
   "id": "d3cd6c7f8d8428d7"
  },
  {
   "cell_type": "markdown",
   "source": [
    "1. Define a blank class with no attributes and methods.\n",
    "\n",
    "    定义 1 个无属性、无方法的类"
   ],
   "metadata": {
    "collapsed": false
   },
   "id": "1c5845d85c8364e1"
  },
  {
   "cell_type": "code",
   "execution_count": null,
   "outputs": [],
   "source": [],
   "metadata": {
    "collapsed": false,
    "ExecuteTime": {
     "end_time": "2023-11-08T16:31:29.182568Z",
     "start_time": "2023-11-08T16:31:29.162403Z"
    }
   },
   "id": "20f705bdd1a32121"
  },
  {
   "cell_type": "markdown",
   "source": [
    "2. Write down 3 main components of class.\n",
    "\n",
    "    写出类的 3 要素"
   ],
   "metadata": {
    "collapsed": false
   },
   "id": "8983b7cd4eb16a19"
  },
  {
   "cell_type": "code",
   "execution_count": null,
   "outputs": [],
   "source": [
    "# "
   ],
   "metadata": {
    "collapsed": false
   },
   "id": "92f017f89f02eb55"
  },
  {
   "cell_type": "markdown",
   "source": [
    "3. Write a School class with attributes and methods.\n",
    "\n",
    "    写一个 School 类，包括属性和方法"
   ],
   "metadata": {
    "collapsed": false
   },
   "id": "9af3a12f6e0cbe8b"
  },
  {
   "cell_type": "code",
   "execution_count": null,
   "outputs": [],
   "source": [],
   "metadata": {
    "collapsed": false
   },
   "id": "1e06e51f244f162a"
  },
  {
   "cell_type": "markdown",
   "source": [
    "4. Print attributes and call methods of an object of School class.\n",
    "\n",
    "    打印一个 School 类的对象的属性，调用这个对象的方法"
   ],
   "metadata": {
    "collapsed": false
   },
   "id": "df2afb14e7ef3644"
  },
  {
   "cell_type": "code",
   "execution_count": null,
   "outputs": [],
   "source": [],
   "metadata": {
    "collapsed": false
   },
   "id": "ff23ad3b778f28ac"
  },
  {
   "cell_type": "markdown",
   "source": [
    "5. Print the type of the object created before\n",
    "\n",
    "    打印之前创建的对象的类型"
   ],
   "metadata": {
    "collapsed": false
   },
   "id": "a0aee4664e1a0d0b"
  },
  {
   "cell_type": "code",
   "execution_count": null,
   "outputs": [],
   "source": [],
   "metadata": {
    "collapsed": false
   },
   "id": "8836e1f68be2b85d"
  },
  {
   "cell_type": "markdown",
   "source": [
    "6. Explain what is self in class.\n",
    "\n",
    "    解释类中的 self 是什么"
   ],
   "metadata": {
    "collapsed": false
   },
   "id": "ae1d6bd15d643ea"
  },
  {
   "cell_type": "code",
   "execution_count": null,
   "outputs": [],
   "source": [
    "# "
   ],
   "metadata": {
    "collapsed": false
   },
   "id": "90a93a5f186d0fe3"
  }
 ],
 "metadata": {
  "kernelspec": {
   "display_name": "Python 3",
   "language": "python",
   "name": "python3"
  },
  "language_info": {
   "codemirror_mode": {
    "name": "ipython",
    "version": 2
   },
   "file_extension": ".py",
   "mimetype": "text/x-python",
   "name": "python",
   "nbconvert_exporter": "python",
   "pygments_lexer": "ipython2",
   "version": "2.7.6"
  }
 },
 "nbformat": 4,
 "nbformat_minor": 5
}

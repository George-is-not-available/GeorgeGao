{
 "cells": [
  {
   "cell_type": "markdown",
   "id": "51be4273cf25ca79",
   "metadata": {
    "collapsed": false,
    "jupyter": {
     "outputs_hidden": false
    }
   },
   "source": [
    "# Class Attribute | 类属性"
   ]
  },
  {
   "cell_type": "markdown",
   "id": "dd04b2441b845fce",
   "metadata": {
    "collapsed": false,
    "jupyter": {
     "outputs_hidden": false
    }
   },
   "source": [
    "1. What is the difference between class attribute and instance attribute?<br />\n",
    "    类属性和实例属性的区别？"
   ]
  },
  {
   "cell_type": "code",
   "execution_count": 1,
   "id": "initial_id",
   "metadata": {},
   "outputs": [
    {
     "data": {
      "text/plain": [
       "'\\nA class attribute is a variable that is defined within a class and is shared by all instances of that class. It is accessed using the class name itself, rather than through an instance of the class.\\n\\nAn instance attribute, on the other hand, is a variable that is specific to a particular instance of a class. Each instance of the class can have its own unique value for an instance attribute. Instance attributes are accessed through an instance of the class.\\n\\nIn summary, the main difference between class attributes and instance attributes is that class attributes are shared by all instances of a class, while instance attributes are specific to each individual instance of the class.\\n'"
      ]
     },
     "execution_count": 1,
     "metadata": {},
     "output_type": "execute_result"
    }
   ],
   "source": [
    "'''\n",
    "A class attribute is a variable that is defined within a class and is shared by all instances of that class. It is accessed using the class name itself, rather than through an instance of the class.\n",
    "\n",
    "An instance attribute, on the other hand, is a variable that is specific to a particular instance of a class. Each instance of the class can have its own unique value for an instance attribute. Instance attributes are accessed through an instance of the class.\n",
    "\n",
    "In summary, the main difference between class attributes and instance attributes is that class attributes are shared by all instances of a class, while instance attributes are specific to each individual instance of the class.\n",
    "'''"
   ]
  },
  {
   "cell_type": "markdown",
   "id": "505a5f7b2821d6df",
   "metadata": {
    "collapsed": false,
    "jupyter": {
     "outputs_hidden": false
    }
   },
   "source": [
    "2. How to define a class attribute?<br />\n",
    "    如何定义类属性？"
   ]
  },
  {
   "cell_type": "code",
   "execution_count": null,
   "id": "fd0d52fb6a33f3c8",
   "metadata": {
    "collapsed": false,
    "jupyter": {
     "outputs_hidden": false
    }
   },
   "outputs": [],
   "source": [
    "class Student:\n",
    "    number = 0\n",
    "\n",
    "    def __init__(self):\n",
    "        self.name = ''\n",
    "        Student.number += 1\n",
    "\n",
    "for i in range(10):\n",
    "    Student()\n",
    "\n",
    "print(Student.number)"
   ]
  },
  {
   "cell_type": "markdown",
   "id": "b3a39549bdffcec7",
   "metadata": {
    "collapsed": false,
    "jupyter": {
     "outputs_hidden": false
    }
   },
   "source": [
    "3. How to access a class attribute?<br />\n",
    "    如何访问类属性？"
   ]
  },
  {
   "cell_type": "code",
   "execution_count": null,
   "id": "dacfeafe3bcf3ef2",
   "metadata": {
    "collapsed": false,
    "jupyter": {
     "outputs_hidden": false
    }
   },
   "outputs": [],
   "source": []
  },
  {
   "cell_type": "markdown",
   "id": "a57f950b21efe2a7",
   "metadata": {
    "collapsed": false,
    "jupyter": {
     "outputs_hidden": false
    }
   },
   "source": [
    "4. What if a class attribute and instance attribute have the same name?<br />\n",
    "    如果类属性和实例属性同名，会发生什么？"
   ]
  },
  {
   "cell_type": "code",
   "execution_count": 5,
   "id": "42366af4a7fe00e7",
   "metadata": {
    "collapsed": false,
    "jupyter": {
     "outputs_hidden": false
    }
   },
   "outputs": [
    {
     "name": "stdout",
     "output_type": "stream",
     "text": [
      "1 1 1 1 1 1 1 1 1 1 1\n"
     ]
    }
   ],
   "source": [
    "class Student:\n",
    "    number = 0\n",
    "\n",
    "    def __init__(self):\n",
    "        self.name = ''\n",
    "        Student.number = 1\n",
    "\n",
    "for i in range(10):\n",
    "    s = Student()\n",
    "    print(s.number, end = ' ')\n",
    "\n",
    "print(Student.number)"
   ]
  },
  {
   "cell_type": "markdown",
   "id": "ec78f3e42cda2752",
   "metadata": {
    "collapsed": false,
    "jupyter": {
     "outputs_hidden": false
    }
   },
   "source": [
    "5. Can a subclass inherit class attributes from a parent class?<br />\n",
    "    子类能否继承父类的类属性？"
   ]
  },
  {
   "cell_type": "code",
   "execution_count": 7,
   "id": "bb8e075803350dd7",
   "metadata": {
    "collapsed": false,
    "jupyter": {
     "outputs_hidden": false
    }
   },
   "outputs": [
    {
     "name": "stdout",
     "output_type": "stream",
     "text": [
      "True\n"
     ]
    }
   ],
   "source": [
    "class A:\n",
    "    x = 1\n",
    "\n",
    "class B(A):\n",
    "    pass\n",
    "\n",
    "\n",
    "print(B.x is A.x)"
   ]
  },
  {
   "cell_type": "markdown",
   "id": "26d4364a0668d72",
   "metadata": {
    "collapsed": false,
    "jupyter": {
     "outputs_hidden": false
    }
   },
   "source": [
    "6. How to modify the value of class attribute by instance?\n",
    "    如何通过实例修改类属性？"
   ]
  },
  {
   "cell_type": "code",
   "execution_count": null,
   "id": "d042cae36d4e9468",
   "metadata": {
    "collapsed": false,
    "jupyter": {
     "outputs_hidden": false
    }
   },
   "outputs": [],
   "source": [
    "class A:\n",
    "    x = 1\n",
    "\n",
    "a = A()\n",
    "print(ax)\n",
    "a.x = 2"
   ]
  },
  {
   "cell_type": "markdown",
   "id": "abad238acb869fb5",
   "metadata": {
    "collapsed": false,
    "jupyter": {
     "outputs_hidden": false
    }
   },
   "source": [
    "# Class Method | 类方法"
   ]
  },
  {
   "cell_type": "markdown",
   "id": "567f4f2a9821cb10",
   "metadata": {
    "collapsed": false,
    "jupyter": {
     "outputs_hidden": false
    }
   },
   "source": [
    "7. What is the difference between class method and instance method?<br />\n",
    "    类方法和实例方法的区别？"
   ]
  },
  {
   "cell_type": "code",
   "execution_count": null,
   "id": "ac8c4d94-6535-4550-963f-0cf11c19f4f3",
   "metadata": {
    "collapsed": false,
    "jupyter": {
     "outputs_hidden": false
    }
   },
   "outputs": [],
   "source": [
    "'''\n",
    "A class method is a method that is associated with the class itself rather than with instances of the class. It is defined using the @classmethod decorator and takes the class itself as its first argument (usually named cls). Class methods are often used to create new instances of the class or to perform operations that are related to the class as a whole.\n",
    "\n",
    "An instance method, on the other hand, is a method that is associated with instances of the class. It takes the instance itself (usually named self) as its first argument and can operate on the specific attributes and behavior of that instance.\n",
    "\n",
    "In summary, the main difference between class methods and instance methods is that class methods are associated with the class itself and take the class as their first argument, while instance methods are associated with instances of the class and take the instance as their first argument.\n",
    "'''"
   ]
  },
  {
   "cell_type": "markdown",
   "id": "72738008c77395e",
   "metadata": {
    "collapsed": false,
    "jupyter": {
     "outputs_hidden": false
    }
   },
   "source": [
    "8. How to define a class method?<br />\n",
    "    如何定义类方法？"
   ]
  },
  {
   "cell_type": "code",
   "execution_count": null,
   "id": "1df14c62086a0323",
   "metadata": {
    "collapsed": false,
    "jupyter": {
     "outputs_hidden": false
    }
   },
   "outputs": [],
   "source": [
    "class A:\n",
    "    @classmethod\n",
    "    def test(cls):\n",
    "        pass"
   ]
  },
  {
   "cell_type": "markdown",
   "id": "73e0590b3631d41f",
   "metadata": {
    "collapsed": false,
    "jupyter": {
     "outputs_hidden": false
    }
   },
   "source": [
    "9. How to call a class method?<br />\n",
    "    如何调用类方法？"
   ]
  },
  {
   "cell_type": "code",
   "execution_count": null,
   "id": "18734d101822615e",
   "metadata": {
    "collapsed": false,
    "jupyter": {
     "outputs_hidden": false
    }
   },
   "outputs": [],
   "source": [
    "class A:\n",
    "    @classmethod\n",
    "    def test(cls):\n",
    "        pass\n",
    "\n",
    "A.test()"
   ]
  },
  {
   "cell_type": "markdown",
   "id": "1fd11fcaabbc8df9",
   "metadata": {
    "collapsed": false,
    "jupyter": {
     "outputs_hidden": false
    }
   },
   "source": [
    "10. What if a class method and instance method have the same name?<br />\n",
    "    如果类方法和实例方法同名，会发生什么？"
   ]
  },
  {
   "cell_type": "code",
   "execution_count": null,
   "id": "d7ce3898e6889e70",
   "metadata": {
    "collapsed": false,
    "jupyter": {
     "outputs_hidden": false
    }
   },
   "outputs": [],
   "source": [
    "class A:\n",
    "    @classmethod\n",
    "    def test(cls):\n",
    "        pass\n",
    "\n",
    "    def test(cls):\n",
    "        pass\n",
    "\n",
    "A.test()"
   ]
  },
  {
   "cell_type": "markdown",
   "id": "64d94449c446f320",
   "metadata": {
    "collapsed": false,
    "jupyter": {
     "outputs_hidden": false
    }
   },
   "source": [
    "# Static Method | 静态方法"
   ]
  },
  {
   "cell_type": "markdown",
   "id": "5b98993e58cae50e",
   "metadata": {
    "collapsed": false,
    "jupyter": {
     "outputs_hidden": false
    }
   },
   "source": [
    "11. How to define a static method?<br />\n",
    "    如何定义静态方法？"
   ]
  },
  {
   "cell_type": "code",
   "execution_count": null,
   "id": "a7d15b57db875fa0",
   "metadata": {
    "collapsed": false,
    "jupyter": {
     "outputs_hidden": false
    }
   },
   "outputs": [],
   "source": [
    "class A:\n",
    "    @staticmethod\n",
    "    def test():\n",
    "        pass\n",
    "A().test()"
   ]
  },
  {
   "cell_type": "markdown",
   "id": "360d58ee3ef18e66",
   "metadata": {
    "collapsed": false,
    "jupyter": {
     "outputs_hidden": false
    }
   },
   "source": [
    "12. What is the difference between static method and function? Why do we need static method?<br />\n",
    "    静态方法和函数的区别？为什么需要静态方法？"
   ]
  },
  {
   "cell_type": "code",
   "execution_count": null,
   "id": "9e97002cc5b49121",
   "metadata": {
    "collapsed": false,
    "jupyter": {
     "outputs_hidden": false
    }
   },
   "outputs": [],
   "source": [
    "'''\n",
    "A static method is a method that is defined within a class but does not operate on the class or its instances. It is defined using the @staticmethod decorator and does not take the class or instance as its first argument. It is similar to a function in that it is a standalone piece of code that performs a specific task, but it is defined within a class for organizational purposes.\n",
    "\n",
    "The main difference between a static method and a function is that a static method is associated with a class and can be called using the class name, while a function is standalone and is not associated with any particular class.\n",
    "\n",
    "We need static methods in Python for organizational and logical purposes. They provide a way to group functions that are related to a class together within the class definition, making the code more readable and maintainable. Static methods can also be used when a method does not need access to the class or its instances, but is still logically related to the class. This allows for better organization of code and can make the code easier to understand and maintain.\n",
    "'''"
   ]
  }
 ],
 "metadata": {
  "kernelspec": {
   "display_name": "Python 3 (ipykernel)",
   "language": "python",
   "name": "python3"
  },
  "language_info": {
   "codemirror_mode": {
    "name": "ipython",
    "version": 3
   },
   "file_extension": ".py",
   "mimetype": "text/x-python",
   "name": "python",
   "nbconvert_exporter": "python",
   "pygments_lexer": "ipython3",
   "version": "3.11.5"
  }
 },
 "nbformat": 4,
 "nbformat_minor": 5
}

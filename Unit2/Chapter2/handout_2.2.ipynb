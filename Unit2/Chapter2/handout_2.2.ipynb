{
 "cells": [
  {
   "cell_type": "markdown",
   "source": [
    "# Magic Methods | 魔术方法"
   ],
   "metadata": {
    "collapsed": false
   },
   "id": "d99417c69febcbe8"
  },
  {
   "cell_type": "markdown",
   "source": [
    "1. What is magic methods?\n",
    "\n",
    "    什么是魔术方法？"
   ],
   "metadata": {
    "collapsed": false
   },
   "id": "e6e9ce88cdc70bb0"
  },
  {
   "cell_type": "code",
   "execution_count": null,
   "outputs": [],
   "source": [
    "# "
   ],
   "metadata": {
    "collapsed": false
   },
   "id": "1d4d8e8d93269ac2"
  },
  {
   "cell_type": "markdown",
   "source": [
    "2. Constructor\n",
    "\n",
    "    构造函数"
   ],
   "metadata": {
    "collapsed": false
   },
   "id": "5d9986d3f0604fa1"
  },
  {
   "cell_type": "code",
   "execution_count": null,
   "id": "initial_id",
   "metadata": {
    "collapsed": true
   },
   "outputs": [],
   "source": []
  },
  {
   "cell_type": "markdown",
   "source": [
    "3. Destructor\n",
    "\n",
    "    析构函数"
   ],
   "metadata": {
    "collapsed": false
   },
   "id": "513826e77899179"
  },
  {
   "cell_type": "code",
   "execution_count": null,
   "outputs": [],
   "source": [],
   "metadata": {
    "collapsed": false
   },
   "id": "200cfe0b95e7272b"
  },
  {
   "cell_type": "markdown",
   "source": [
    "4. __str__() and __repr__()"
   ],
   "metadata": {
    "collapsed": false
   },
   "id": "c913627511ee8e90"
  },
  {
   "cell_type": "code",
   "execution_count": null,
   "outputs": [],
   "source": [],
   "metadata": {
    "collapsed": false
   },
   "id": "be3a47b7c8a79a5c"
  },
  {
   "cell_type": "markdown",
   "source": [
    "5. __lt__(), __le__() and __eq__()"
   ],
   "metadata": {
    "collapsed": false
   },
   "id": "6e9e7d73c060fde9"
  },
  {
   "cell_type": "code",
   "execution_count": null,
   "outputs": [],
   "source": [],
   "metadata": {
    "collapsed": false
   },
   "id": "1a5557105dcd766d"
  },
  {
   "cell_type": "markdown",
   "source": [
    "6. __len__()"
   ],
   "metadata": {
    "collapsed": false
   },
   "id": "ddf1fe1b999e6350"
  },
  {
   "cell_type": "code",
   "execution_count": null,
   "outputs": [],
   "source": [],
   "metadata": {
    "collapsed": false
   },
   "id": "bfa3d4b2b1a33fe"
  }
 ],
 "metadata": {
  "kernelspec": {
   "display_name": "Python 3",
   "language": "python",
   "name": "python3"
  },
  "language_info": {
   "codemirror_mode": {
    "name": "ipython",
    "version": 2
   },
   "file_extension": ".py",
   "mimetype": "text/x-python",
   "name": "python",
   "nbconvert_exporter": "python",
   "pygments_lexer": "ipython2",
   "version": "2.7.6"
  }
 },
 "nbformat": 4,
 "nbformat_minor": 5
}

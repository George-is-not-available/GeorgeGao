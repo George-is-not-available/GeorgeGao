{
 "cells": [
  {
   "cell_type": "code",
   "execution_count": 3,
   "id": "fcf9d190-438e-4cb0-8262-347a793ebc7e",
   "metadata": {},
   "outputs": [
    {
     "name": "stdout",
     "output_type": "stream",
     "text": [
      "18310153093\n"
     ]
    }
   ],
   "source": [
    "    phonenumber = 18310153093\n",
    "print(phonenumber)\n",
    "# 1.1.2"
   ]
  },
  {
   "cell_type": "code",
   "execution_count": 7,
   "id": "5fa7d0b0-3d27-44ed-b955-0c68056327b1",
   "metadata": {},
   "outputs": [
    {
     "name": "stdout",
     "output_type": "stream",
     "text": [
      "GeorgeGao\n"
     ]
    }
   ],
   "source": [
    "username = \"GeorgeGao\"\n",
    "print(username)\n",
    "# 1.1.3"
   ]
  },
  {
   "cell_type": "code",
   "execution_count": 8,
   "id": "807380e5-bfb8-410a-b61c-a634d2b052a8",
   "metadata": {},
   "outputs": [
    {
     "name": "stdout",
     "output_type": "stream",
     "text": [
      "0\n"
     ]
    }
   ],
   "source": [
    "account_balance = 0\n",
    "print( account_balance)\n",
    "# 1.1.4"
   ]
  },
  {
   "cell_type": "code",
   "execution_count": 9,
   "id": "77573618-3c89-4bec-95c5-1eb54d8c905a",
   "metadata": {},
   "outputs": [
    {
     "name": "stdout",
     "output_type": "stream",
     "text": [
      "Hi\n"
     ]
    }
   ],
   "source": [
    "stock_code = \"Hi\"\n",
    "print( stock_code)\n",
    "# 1.1.5"
   ]
  },
  {
   "cell_type": "code",
   "execution_count": 10,
   "id": "dbff82ce-621c-4cd9-9a0c-be061ee72706",
   "metadata": {},
   "outputs": [
    {
     "name": "stdout",
     "output_type": "stream",
     "text": [
      "Student Name: GeorgeGao\n",
      "Student Gender: Male\n",
      "Student ID: 23011053\n"
     ]
    }
   ],
   "source": [
    "student_name = \"GeorgeGao\"\n",
    "student_gender = \"Male\"\n",
    "student_id = \"23011053\"\n",
    "print(\"Student Name:\", student_name)\n",
    "print(\"Student Gender:\", student_gender)\n",
    "print(\"Student ID:\", student_id)\n",
    "# 1.1.6"
   ]
  },
  {
   "cell_type": "code",
   "execution_count": null,
   "id": "adbce8ff-0ad2-482f-a6df-aaa3b5b3b655",
   "metadata": {},
   "outputs": [],
   "source": []
  }
 ],
 "metadata": {
  "kernelspec": {
   "display_name": "Python 3 (ipykernel)",
   "language": "python",
   "name": "python3"
  },
  "language_info": {
   "codemirror_mode": {
    "name": "ipython",
    "version": 3
   },
   "file_extension": ".py",
   "mimetype": "text/x-python",
   "name": "python",
   "nbconvert_exporter": "python",
   "pygments_lexer": "ipython3",
   "version": "3.11.5"
  }
 },
 "nbformat": 4,
 "nbformat_minor": 5
}
